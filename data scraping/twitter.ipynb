{
  "nbformat": 4,
  "nbformat_minor": 0,
  "metadata": {
    "colab": {
      "provenance": []
    },
    "kernelspec": {
      "name": "python3",
      "display_name": "Python 3"
    },
    "language_info": {
      "name": "python"
    }
  },
  "cells": [
    {
      "cell_type": "code",
      "execution_count": null,
      "metadata": {
        "id": "cb-dITp6DiW3"
      },
      "outputs": [],
      "source": [
        "import requests\n",
        "from bs4 import BeautifulSoup\n",
        "import time\n",
        "from tqdm import tqdm\n",
        "def scrape_data(url):\n",
        "    # Lists to store scraped data\n",
        "    h4_data = []\n",
        "    span_data = []\n",
        "\n",
        "    # Send a request to the URL\n",
        "    response = requests.get(url)\n",
        "\n",
        "    # Parse the HTML content\n",
        "    soup = BeautifulSoup(response.content, 'html.parser')\n",
        "\n",
        "    # Find all div elements with the desired class name\n",
        "    div_elements = soup.find_all('div', class_='following-text3')\n",
        "\n",
        "    # Iterate over each div element\n",
        "    for div in div_elements:\n",
        "        # Find the h4 element within the current div\n",
        "        h4_element = div.find('h4')\n",
        "        #span_element = div.find('span')\n",
        "\n",
        "        # If h4 element exists\n",
        "        if h4_element:\n",
        "            # Extract the text content of the h4 element\n",
        "            h4_text = h4_element.text.strip()\n",
        "\n",
        "            # Find the span element within the h4 element\n",
        "            span_element = h4_element.find('span')\n",
        "\n",
        "            # If span element exists within h4\n",
        "            if span_element:\n",
        "                # Extract the text content of the span element\n",
        "                span_text = span_element.text.strip()\n",
        "                # Remove the span text from the h4 text\n",
        "                h4_text = h4_text.replace(span_text, '').strip()\n",
        "\n",
        "            # Append the h4 text to the h4_data list\n",
        "            if h4_text not in h4_data:\n",
        "              h4_data.append(h4_text)\n",
        "\n",
        "            # If span element exists, append its text to the span_data list\n",
        "            if span_element:\n",
        "              if span_text not in span_data:\n",
        "                span_data.append(span_text)\n",
        "\n",
        "    return h4_data, span_data"
      ]
    },
    {
      "cell_type": "code",
      "source": [
        "twitter_username = \"\""
      ],
      "metadata": {
        "id": "iSLRkz5B47ym"
      },
      "execution_count": null,
      "outputs": []
    },
    {
      "cell_type": "code",
      "source": [
        "h4_data_followers, span_data_followers = scrape_data(f'https://twstalker.com/{twitter_username}#nav-followers')"
      ],
      "metadata": {
        "id": "exnS4V-uHQiX"
      },
      "execution_count": null,
      "outputs": []
    },
    {
      "cell_type": "code",
      "source": [
        "def go_crazy(h4_data_followers, span_data_followers, target_size):\n",
        "  while len(h4_data_followers) < target_size:\n",
        "    for follower_name in tqdm(span_data_followers):\n",
        "      try:\n",
        "        names, usernames = scrape_data(f'https://twstalker.com/{follower_name[1:]}#nav-followers')\n",
        "        for name in names:\n",
        "          if name not in h4_data_followers:\n",
        "            h4_data_followers.append(name)\n",
        "\n",
        "            if len(h4_data_followers)%1000==0:\n",
        "              print(f'current length of data: {len(h4_data_followers)}')\n",
        "\n",
        "        for username in usernames:\n",
        "          if username not in span_data_followers:\n",
        "            span_data_followers.append(username)\n",
        "\n",
        "        if len(h4_data_followers) >= target_size:\n",
        "          break\n",
        "      except Exception as e:\n",
        "        print(f\"Error scraping data for {follower_name}: {e}\")\n",
        "        time.sleep(5)\n",
        "\n",
        "  return h4_data_followers,span_data_followers"
      ],
      "metadata": {
        "id": "qSbl4pk0JAEM"
      },
      "execution_count": null,
      "outputs": []
    },
    {
      "cell_type": "code",
      "source": [
        "h4_data_followers_new, span_data_followers_new = go_crazy(h4_data_followers, span_data_followers,30000)"
      ],
      "metadata": {
        "id": "CZ2vzdfAPGta",
        "colab": {
          "base_uri": "https://localhost:8080/"
        },
        "outputId": "d665423c-fbc5-407c-8f12-b2427ee1aee6"
      },
      "execution_count": null,
      "outputs": [
        {
          "output_type": "stream",
          "name": "stderr",
          "text": [
            " 16%|█▌        | 12/74 [01:21<06:58,  6.75s/it]"
          ]
        },
        {
          "output_type": "stream",
          "name": "stdout",
          "text": [
            "current length of data: 1000\n"
          ]
        },
        {
          "output_type": "stream",
          "name": "stderr",
          "text": [
            " 41%|████      | 30/74 [03:06<04:09,  5.68s/it]"
          ]
        },
        {
          "output_type": "stream",
          "name": "stdout",
          "text": [
            "current length of data: 2000\n"
          ]
        },
        {
          "output_type": "stream",
          "name": "stderr",
          "text": [
            " 64%|██████▎   | 47/74 [05:05<03:18,  7.35s/it]"
          ]
        },
        {
          "output_type": "stream",
          "name": "stdout",
          "text": [
            "current length of data: 3000\n"
          ]
        },
        {
          "output_type": "stream",
          "name": "stderr",
          "text": [
            " 81%|████████  | 60/74 [06:32<01:40,  7.15s/it]"
          ]
        },
        {
          "output_type": "stream",
          "name": "stdout",
          "text": [
            "current length of data: 4000\n"
          ]
        },
        {
          "output_type": "stream",
          "name": "stderr",
          "text": [
            "100%|██████████| 74/74 [08:10<00:00,  6.95s/it]"
          ]
        },
        {
          "output_type": "stream",
          "name": "stdout",
          "text": [
            "current length of data: 5000\n"
          ]
        },
        {
          "output_type": "stream",
          "name": "stderr",
          "text": [
            "92it [09:49,  5.69s/it]"
          ]
        },
        {
          "output_type": "stream",
          "name": "stdout",
          "text": [
            "current length of data: 6000\n"
          ]
        },
        {
          "output_type": "stream",
          "name": "stderr",
          "text": [
            "106it [11:14,  6.46s/it]"
          ]
        },
        {
          "output_type": "stream",
          "name": "stdout",
          "text": [
            "current length of data: 7000\n"
          ]
        },
        {
          "output_type": "stream",
          "name": "stderr",
          "text": [
            "119it [12:40,  5.98s/it]"
          ]
        },
        {
          "output_type": "stream",
          "name": "stdout",
          "text": [
            "current length of data: 8000\n"
          ]
        },
        {
          "output_type": "stream",
          "name": "stderr",
          "text": [
            "135it [14:24,  6.83s/it]"
          ]
        },
        {
          "output_type": "stream",
          "name": "stdout",
          "text": [
            "current length of data: 9000\n"
          ]
        },
        {
          "output_type": "stream",
          "name": "stderr",
          "text": [
            "146it [15:44,  7.23s/it]"
          ]
        },
        {
          "output_type": "stream",
          "name": "stdout",
          "text": [
            "current length of data: 10000\n"
          ]
        },
        {
          "output_type": "stream",
          "name": "stderr",
          "text": [
            "161it [17:30,  6.68s/it]"
          ]
        },
        {
          "output_type": "stream",
          "name": "stdout",
          "text": [
            "current length of data: 11000\n"
          ]
        },
        {
          "output_type": "stream",
          "name": "stderr",
          "text": [
            "179it [19:17,  5.57s/it]"
          ]
        },
        {
          "output_type": "stream",
          "name": "stdout",
          "text": [
            "current length of data: 12000\n"
          ]
        },
        {
          "output_type": "stream",
          "name": "stderr",
          "text": [
            "193it [20:50,  6.47s/it]"
          ]
        },
        {
          "output_type": "stream",
          "name": "stdout",
          "text": [
            "current length of data: 13000\n"
          ]
        },
        {
          "output_type": "stream",
          "name": "stderr",
          "text": [
            "207it [22:30,  8.04s/it]"
          ]
        },
        {
          "output_type": "stream",
          "name": "stdout",
          "text": [
            "current length of data: 14000\n"
          ]
        },
        {
          "output_type": "stream",
          "name": "stderr",
          "text": [
            "222it [24:15,  6.91s/it]"
          ]
        },
        {
          "output_type": "stream",
          "name": "stdout",
          "text": [
            "current length of data: 15000\n"
          ]
        },
        {
          "output_type": "stream",
          "name": "stderr",
          "text": [
            "233it [25:41,  8.81s/it]"
          ]
        },
        {
          "output_type": "stream",
          "name": "stdout",
          "text": [
            "current length of data: 16000\n"
          ]
        },
        {
          "output_type": "stream",
          "name": "stderr",
          "text": [
            "247it [27:24,  7.29s/it]"
          ]
        },
        {
          "output_type": "stream",
          "name": "stdout",
          "text": [
            "current length of data: 17000\n"
          ]
        },
        {
          "output_type": "stream",
          "name": "stderr",
          "text": [
            "260it [28:58,  7.38s/it]"
          ]
        },
        {
          "output_type": "stream",
          "name": "stdout",
          "text": [
            "current length of data: 18000\n"
          ]
        },
        {
          "output_type": "stream",
          "name": "stderr",
          "text": [
            "274it [30:38,  6.83s/it]"
          ]
        },
        {
          "output_type": "stream",
          "name": "stdout",
          "text": [
            "current length of data: 19000\n"
          ]
        },
        {
          "output_type": "stream",
          "name": "stderr",
          "text": [
            "287it [32:08,  6.66s/it]"
          ]
        },
        {
          "output_type": "stream",
          "name": "stdout",
          "text": [
            "current length of data: 20000\n"
          ]
        },
        {
          "output_type": "stream",
          "name": "stderr",
          "text": [
            "300it [33:38,  6.84s/it]"
          ]
        },
        {
          "output_type": "stream",
          "name": "stdout",
          "text": [
            "current length of data: 21000\n"
          ]
        },
        {
          "output_type": "stream",
          "name": "stderr",
          "text": [
            "314it [35:30,  7.55s/it]"
          ]
        },
        {
          "output_type": "stream",
          "name": "stdout",
          "text": [
            "current length of data: 22000\n"
          ]
        },
        {
          "output_type": "stream",
          "name": "stderr",
          "text": [
            "330it [37:29,  7.61s/it]"
          ]
        },
        {
          "output_type": "stream",
          "name": "stdout",
          "text": [
            "current length of data: 23000\n"
          ]
        },
        {
          "output_type": "stream",
          "name": "stderr",
          "text": [
            "342it [38:58,  7.10s/it]"
          ]
        },
        {
          "output_type": "stream",
          "name": "stdout",
          "text": [
            "current length of data: 24000\n"
          ]
        },
        {
          "output_type": "stream",
          "name": "stderr",
          "text": [
            "357it [40:43,  6.98s/it]"
          ]
        },
        {
          "output_type": "stream",
          "name": "stdout",
          "text": [
            "current length of data: 25000\n"
          ]
        },
        {
          "output_type": "stream",
          "name": "stderr",
          "text": [
            "370it [42:14,  6.54s/it]"
          ]
        },
        {
          "output_type": "stream",
          "name": "stdout",
          "text": [
            "current length of data: 26000\n"
          ]
        },
        {
          "output_type": "stream",
          "name": "stderr",
          "text": [
            "387it [44:08,  6.84s/it]"
          ]
        },
        {
          "output_type": "stream",
          "name": "stdout",
          "text": [
            "current length of data: 27000\n"
          ]
        },
        {
          "output_type": "stream",
          "name": "stderr",
          "text": [
            "402it [45:46,  6.63s/it]"
          ]
        },
        {
          "output_type": "stream",
          "name": "stdout",
          "text": [
            "current length of data: 28000\n"
          ]
        },
        {
          "output_type": "stream",
          "name": "stderr",
          "text": [
            "416it [47:22,  6.69s/it]"
          ]
        },
        {
          "output_type": "stream",
          "name": "stdout",
          "text": [
            "current length of data: 29000\n"
          ]
        },
        {
          "output_type": "stream",
          "name": "stderr",
          "text": [
            "433it [49:25,  6.85s/it]"
          ]
        },
        {
          "output_type": "stream",
          "name": "stdout",
          "text": [
            "current length of data: 30000\n"
          ]
        },
        {
          "output_type": "stream",
          "name": "stderr",
          "text": [
            "\n"
          ]
        }
      ]
    },
    {
      "cell_type": "code",
      "source": [
        "def save_list_to_txt(lst, filename):\n",
        "    with open(filename, 'w') as file:\n",
        "        for item in lst:\n",
        "            file.write(str(item) + '\\n')"
      ],
      "metadata": {
        "id": "ALZm5Md6_xif"
      },
      "execution_count": null,
      "outputs": []
    },
    {
      "cell_type": "code",
      "source": [
        "save_list_to_txt(h4_data_followers_new, 'twitter.txt')"
      ],
      "metadata": {
        "id": "ntKThTgMLgvD"
      },
      "execution_count": null,
      "outputs": []
    },
    {
      "cell_type": "code",
      "source": [
        "len(set(h4_data_followers_new))"
      ],
      "metadata": {
        "id": "NxllUKCLOcWX",
        "colab": {
          "base_uri": "https://localhost:8080/"
        },
        "outputId": "1881c5aa-70db-405a-f40e-4b3f994655a9"
      },
      "execution_count": null,
      "outputs": [
        {
          "output_type": "execute_result",
          "data": {
            "text/plain": [
              "30025"
            ]
          },
          "metadata": {},
          "execution_count": 7
        }
      ]
    },
    {
      "cell_type": "code",
      "source": [],
      "metadata": {
        "id": "UxsMuIpQ7Ie9"
      },
      "execution_count": null,
      "outputs": []
    }
  ]
}